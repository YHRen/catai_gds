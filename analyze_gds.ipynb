{
 "cells": [
  {
   "cell_type": "code",
   "execution_count": null,
   "id": "stainless-hybrid",
   "metadata": {},
   "outputs": [],
   "source": [
    "import pandas as pd\n",
    "import numpy as np\n",
    "from itertools import product\n",
    "from pathlib import Path\n",
    "import matplotlib.pyplot as plt\n",
    "from operator import mul\n",
    "from functools import reduce"
   ]
  },
  {
   "cell_type": "code",
   "execution_count": null,
   "id": "announced-surgery",
   "metadata": {},
   "outputs": [],
   "source": [
    "GPU_IDS=[\"0,1\",\"0,1,2,3\",\"0,1,6,7\",\"0,1,2,3,4,5,6,7\"]\n",
    "CPU_WORKERS=[1,4,16,32,64,96,128]\n",
    "BUFFER_SIZES=[\"64k\",\"256k\",\"1m\",\"4m\"]\n",
    "num_runs=10\n",
    "fn_fmt=\"gpu_{g}-workers_{c}-buffer_{b}-run_{r}.txt\"\n",
    "\n",
    "## GDS DDN\n",
    "# exp_name = \"gdsddn\"\n",
    "# DIR=Path(\"gds_results\")\n",
    "\n",
    "## GDS NVME\n",
    "# exp_name = \"gds_nvme\"\n",
    "# DIR=Path(\"readLargeFileCuFileNVME/\")\n",
    "\n",
    "## No Cufile NVME \n",
    "# exp_name = \"regular_nvme\"\n",
    "# DIR=Path(\"readLargeFileNVME/\")"
   ]
  },
  {
   "cell_type": "code",
   "execution_count": null,
   "id": "sufficient-theorem",
   "metadata": {},
   "outputs": [],
   "source": [
    "def gather_result():\n",
    "    cnt = 0\n",
    "    rst_shape = len(GPU_IDS), len(CPU_WORKERS), len(BUFFER_SIZES), num_runs\n",
    "    rst_lst_x, rst_lst_y = [], []\n",
    "    for g,c,b,r in product(GPU_IDS, CPU_WORKERS, BUFFER_SIZES, range(1,num_runs+1)):\n",
    "        fn = DIR/fn_fmt.format(g=g,c=c,b=b,r=r)\n",
    "        cnt += 1\n",
    "        with open(fn,\"r\") as fp:\n",
    "            for line in fp:\n",
    "                if \"Throughput\" in line:\n",
    "                    assert \"MiB/s\" in line ## make sure units are the same\n",
    "                    *_, x, y = line.split()\n",
    "                    rst_lst_x.append(x)\n",
    "                    rst_lst_y.append(y)\n",
    "    rst = np.asarray(rst_lst_x, dtype=np.float).reshape(rst_shape)\n",
    "    assert reduce(mul, rst.shape) == cnt\n",
    "    return rst"
   ]
  },
  {
   "cell_type": "code",
   "execution_count": null,
   "id": "fossil-complement",
   "metadata": {},
   "outputs": [],
   "source": [
    "rst = gather_result()\n",
    "x = list(map(float, CPU_WORKERS))\n",
    "print(BUFFER_SIZES)\n",
    "for b_cfg, b in enumerate(BUFFER_SIZES):\n",
    "    fig, ax = plt.subplots(1)\n",
    "    tmp = rst[:,:,b_cfg,:]\n",
    "    for idx, g in enumerate(GPU_IDS):\n",
    "        y = np.median(tmp[idx], axis=-1)\n",
    "        # y = np.mean(tmp[idx], axis=-1)\n",
    "        s = np.std(tmp[idx], axis=-1)\n",
    "        ax.errorbar(x, y, s, label=f\"gids: {g}\")\n",
    "    ax.legend()\n",
    "    ax.set_ylabel(\"Throughput MiB/s\")\n",
    "    ax.set_xlabel(\"num. of CPU workers\")\n",
    "    ax.set_title(f\"{exp_name}: GDS buff size {b}\")\n",
    "    fig.savefig(exp_name+b+\".png\", dpi=300)"
   ]
  }
 ],
 "metadata": {
  "kernelspec": {
   "display_name": "Python 3",
   "language": "python",
   "name": "python3"
  },
  "language_info": {
   "codemirror_mode": {
    "name": "ipython",
    "version": 3
   },
   "file_extension": ".py",
   "mimetype": "text/x-python",
   "name": "python",
   "nbconvert_exporter": "python",
   "pygments_lexer": "ipython3",
   "version": "3.7.9"
  }
 },
 "nbformat": 4,
 "nbformat_minor": 5
}
