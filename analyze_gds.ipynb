{
 "cells": [
  {
   "cell_type": "code",
   "execution_count": null,
   "metadata": {},
   "outputs": [],
   "source": [
    "from itertools import product\n",
    "from pathlib import Path\n",
    "from string import ascii_lowercase\n",
    "from operator import mul\n",
    "from functools import reduce\n",
    "import pandas as pd\n",
    "import numpy as np\n",
    "import matplotlib.pyplot as plt"
   ]
  },
  {
   "cell_type": "code",
   "execution_count": null,
   "metadata": {},
   "outputs": [],
   "source": [
    "GPU_IDS=[\"0,1\",\"0,1,2,3\",\"0,1,6,7\",\"0,1,2,3,4,5,6,7\"]\n",
    "CPU_WORKERS=[1,4,16,32,64,96,128]\n",
    "BUFFER_SIZES=[\"64k\",\"256k\",\"1m\",\"4m\"]\n",
    "num_runs=10\n",
    "fn_fmt=\"gpu_{g}-workers_{c}-buffer_{b}-run_{r}.txt\"\n",
    "exp_settings = [(\"gdsddn\", \"readLargeFileDDN\"), \n",
    "                (\"gds_nvme\", \"readLargeFileCuFileNVME\"),\n",
    "                (\"regular_nvme\", \"readLargeFileNVME\")]\n",
    "exp_names = [x[0] for x in exp_settings]\n",
    "rst_dirs = [Path(x[1]) for x in exp_settings]"
   ]
  },
  {
   "cell_type": "code",
   "execution_count": null,
   "metadata": {},
   "outputs": [],
   "source": [
    "def gather_result(rst_dir: Path):\n",
    "    cnt = 0\n",
    "    rst_shape = len(GPU_IDS), len(CPU_WORKERS), len(BUFFER_SIZES), num_runs\n",
    "    rst_lst_x, rst_lst_y = [], []\n",
    "    for g,c,b,r in product(GPU_IDS, CPU_WORKERS, BUFFER_SIZES, range(1,num_runs+1)):\n",
    "        fn = rst_dir/fn_fmt.format(g=g,c=c,b=b,r=r)\n",
    "        cnt += 1\n",
    "        with open(fn,\"r\") as fp:\n",
    "            for line in fp:\n",
    "                if \"Throughput\" in line:\n",
    "                    assert \"MiB/s\" in line ## make sure units are always MiB/s\n",
    "                    *_, x, y = line.split() ## x first worker, y last worker\n",
    "                    rst_lst_x.append(x)\n",
    "                    rst_lst_y.append(y)\n",
    "    rst_first = np.asarray(rst_lst_x, dtype=np.float).reshape(rst_shape)\n",
    "    rst_last = np.asarray(rst_lst_y, dtype=np.float).reshape(rst_shape)\n",
    "    assert reduce(mul, rst_first.shape) == cnt\n",
    "    return rst_first, rst_last"
   ]
  },
  {
   "cell_type": "code",
   "execution_count": null,
   "metadata": {},
   "outputs": [],
   "source": [
    "rst_first, rst_last = [], []\n",
    "for rst_dir in rst_dirs:\n",
    "    rst_x, rst_y = gather_result(rst_dir)\n",
    "    rst_first.append(rst_x)\n",
    "    rst_last.append(rst_y)\n",
    "rst_first, rst_last = map(np.asarray, (rst_first, rst_last))\n",
    "print(rst_first.shape)\n",
    "print(\"(\", \",\".join([\"exp names\", \"GPU settings\", \"CPU workers\", \"buffer sizes\", \"run ids\"]),\")\")"
   ]
  },
  {
   "cell_type": "code",
   "execution_count": null,
   "metadata": {},
   "outputs": [],
   "source": [
    "def grid_plot(rst: np.ndarray, avg_fn: callable):\n",
    "    assert avg_fn == np.median or avg_fn == np.mean\n",
    "    fig, axes = plt.subplots(nrows=len(BUFFER_SIZES),\n",
    "                             ncols=len(GPU_IDS), \n",
    "                             figsize=(14,14), sharey=True)\n",
    "    x = list(map(float, CPU_WORKERS))\n",
    "    \n",
    "    for b_idx, b in enumerate(BUFFER_SIZES):\n",
    "        for g_idx, g in enumerate(GPU_IDS):\n",
    "            ax = axes[b_idx][g_idx]\n",
    "            idx = b_idx*len(BUFFER_SIZES)+g_idx\n",
    "            data = rst[:, g_idx, :, b_idx, :]\n",
    "            for e_idx, e in enumerate(exp_names):\n",
    "                # y = np.median(data[e_idx], axis=-1)\n",
    "                # y = np.mean(data[e_idx], axis=-1)\n",
    "                y = avg_fn(data[e_idx], axis=-1)\n",
    "                s = np.std(data[e_idx], axis=-1)\n",
    "                ax.errorbar(x, y, s, label=f\"{e}\")\n",
    "                #ax.set_xscale(\"log\",base=2)\n",
    "                ax.grid()\n",
    "                ax.set_xticks(x)\n",
    "                ax.text(0.1, 0.9, f\"({ascii_lowercase[idx]})\", \n",
    "                        horizontalalignment='center',  \n",
    "                        verticalalignment='center', \n",
    "                        transform=ax.transAxes, \n",
    "                        fontdict={\"family\":\"arial\", \"size\":14})\n",
    "            if b_idx == 0:\n",
    "                ax.set_title(f\"GPU IDs {g}\")\n",
    "            if g_idx == 0:\n",
    "                ax.set_ylabel(f\"Buffer Size {b} \\nthroughput MiB/s\")\n",
    "            if b_idx != len(GPU_IDS)-1:\n",
    "                ax.set_xticklabels([])\n",
    "            else:\n",
    "                ax.set_xticklabels(map(int,x))\n",
    "            if b_idx == 0 and g_idx == len(GPU_IDS)-1:\n",
    "                ax.legend()\n",
    "    return fig"
   ]
  },
  {
   "cell_type": "code",
   "execution_count": null,
   "metadata": {},
   "outputs": [],
   "source": [
    "fig = grid_plot(rst_last, np.median)\n",
    "fig.savefig(\"grid_plot_last.png\", dpi=300)"
   ]
  },
  {
   "cell_type": "code",
   "execution_count": null,
   "metadata": {},
   "outputs": [],
   "source": [
    "fig = grid_plot(rst_first, np.median)\n",
    "fig.savefig(\"grid_plot_first\", dpi=300)"
   ]
  },
  {
   "cell_type": "code",
   "execution_count": null,
   "metadata": {},
   "outputs": [],
   "source": [
    "fig = grid_plot(np.abs(rst_first-rst_last), np.median)\n",
    "fig.savefig(\"grid_plot_diff\", dpi=300)"
   ]
  },
  {
   "cell_type": "code",
   "execution_count": null,
   "metadata": {},
   "outputs": [],
   "source": [
    "## OUTDATED: Single Plots\n",
    "## rst = gather_result()\n",
    "## x = list(map(float, CPU_WORKERS))\n",
    "## print(BUFFER_SIZES)\n",
    "## for b_cfg, b in enumerate(BUFFER_SIZES):\n",
    "##     fig, ax = plt.subplots(1)\n",
    "##     tmp = rst[:,:,b_cfg,:]\n",
    "##     for idx, g in enumerate(GPU_IDS):\n",
    "##         y = np.median(tmp[idx], axis=-1)\n",
    "##         # y = np.mean(tmp[idx], axis=-1)\n",
    "##         s = np.std(tmp[idx], axis=-1)\n",
    "##         ax.errorbar(x, y, s, label=f\"gids: {g}\")\n",
    "##     ax.legend()\n",
    "##     ax.set_ylabel(\"Throughput MiB/s\")\n",
    "##     ax.set_xlabel(\"num. of CPU workers\")\n",
    "##     ax.set_title(f\"{exp_name}: GDS buff size {b}\")\n",
    "##     fig.savefig(exp_name+b+\".png\", dpi=300)"
   ]
  },
  {
   "cell_type": "code",
   "execution_count": null,
   "metadata": {},
   "outputs": [],
   "source": []
  }
 ],
 "metadata": {
  "kernelspec": {
   "display_name": "Python 3",
   "language": "python",
   "name": "python3"
  },
  "language_info": {
   "codemirror_mode": {
    "name": "ipython",
    "version": 3
   },
   "file_extension": ".py",
   "mimetype": "text/x-python",
   "name": "python",
   "nbconvert_exporter": "python",
   "pygments_lexer": "ipython3",
   "version": "3.8.5"
  }
 },
 "nbformat": 4,
 "nbformat_minor": 5
}
